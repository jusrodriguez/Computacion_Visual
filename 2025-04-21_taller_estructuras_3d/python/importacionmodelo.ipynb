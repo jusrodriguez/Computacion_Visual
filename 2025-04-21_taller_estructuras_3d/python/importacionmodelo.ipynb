{
 "cells": [
  {
   "cell_type": "code",
   "execution_count": 37,
   "id": "15cc5004",
   "metadata": {},
   "outputs": [
    {
     "name": "stdout",
     "output_type": "stream",
     "text": [
      "Requirement already satisfied: trimesh in c:\\users\\justi\\anaconda3\\lib\\site-packages (4.6.8)\n",
      "Requirement already satisfied: vedo in c:\\users\\justi\\anaconda3\\lib\\site-packages (2025.5.3)\n",
      "Requirement already satisfied: numpy in c:\\users\\justi\\anaconda3\\lib\\site-packages (1.26.4)\n",
      "Requirement already satisfied: matplotlib in c:\\users\\justi\\anaconda3\\lib\\site-packages (3.9.2)\n",
      "Requirement already satisfied: imageio in c:\\users\\justi\\anaconda3\\lib\\site-packages (2.33.1)\n",
      "Requirement already satisfied: vtk in c:\\users\\justi\\anaconda3\\lib\\site-packages (from vedo) (9.4.2)\n",
      "Requirement already satisfied: typing-extensions in c:\\users\\justi\\anaconda3\\lib\\site-packages (from vedo) (4.11.0)\n",
      "Requirement already satisfied: Pygments in c:\\users\\justi\\anaconda3\\lib\\site-packages (from vedo) (2.15.1)\n",
      "Requirement already satisfied: contourpy>=1.0.1 in c:\\users\\justi\\anaconda3\\lib\\site-packages (from matplotlib) (1.2.0)\n",
      "Requirement already satisfied: cycler>=0.10 in c:\\users\\justi\\anaconda3\\lib\\site-packages (from matplotlib) (0.11.0)\n",
      "Requirement already satisfied: fonttools>=4.22.0 in c:\\users\\justi\\anaconda3\\lib\\site-packages (from matplotlib) (4.51.0)\n",
      "Requirement already satisfied: kiwisolver>=1.3.1 in c:\\users\\justi\\anaconda3\\lib\\site-packages (from matplotlib) (1.4.4)\n",
      "Requirement already satisfied: packaging>=20.0 in c:\\users\\justi\\anaconda3\\lib\\site-packages (from matplotlib) (24.1)\n",
      "Requirement already satisfied: pillow>=8 in c:\\users\\justi\\anaconda3\\lib\\site-packages (from matplotlib) (10.4.0)\n",
      "Requirement already satisfied: pyparsing>=2.3.1 in c:\\users\\justi\\anaconda3\\lib\\site-packages (from matplotlib) (3.1.2)\n",
      "Requirement already satisfied: python-dateutil>=2.7 in c:\\users\\justi\\anaconda3\\lib\\site-packages (from matplotlib) (2.9.0.post0)\n",
      "Requirement already satisfied: six>=1.5 in c:\\users\\justi\\anaconda3\\lib\\site-packages (from python-dateutil>=2.7->matplotlib) (1.16.0)\n"
     ]
    }
   ],
   "source": [
    "!pip install trimesh vedo numpy matplotlib imageio\n"
   ]
  },
  {
   "cell_type": "code",
   "execution_count": 39,
   "id": "3e53116a",
   "metadata": {},
   "outputs": [
    {
     "ename": "ValueError",
     "evalue": "string is not a file: `python/FinalBaseMesh.obj`",
     "output_type": "error",
     "traceback": [
      "\u001b[1;31m---------------------------------------------------------------------------\u001b[0m",
      "\u001b[1;31mValueError\u001b[0m                                Traceback (most recent call last)",
      "Cell \u001b[1;32mIn[39], line 8\u001b[0m\n\u001b[0;32m      5\u001b[0m \u001b[38;5;28;01mimport\u001b[39;00m \u001b[38;5;21;01mimageio\u001b[39;00m\n\u001b[0;32m      7\u001b[0m \u001b[38;5;66;03m# 1. Cargar el modelo 3D\u001b[39;00m\n\u001b[1;32m----> 8\u001b[0m modelo \u001b[38;5;241m=\u001b[39m trimesh\u001b[38;5;241m.\u001b[39mload_mesh(\u001b[38;5;124m\"\u001b[39m\u001b[38;5;124mpython/FinalBaseMesh.obj\u001b[39m\u001b[38;5;124m\"\u001b[39m)  \u001b[38;5;66;03m# Asegúrate de que la ruta esté correcta\u001b[39;00m\n\u001b[0;32m     10\u001b[0m \u001b[38;5;66;03m# 2. Información estructural del modelo\u001b[39;00m\n\u001b[0;32m     11\u001b[0m \u001b[38;5;28mprint\u001b[39m(\u001b[38;5;124mf\u001b[39m\u001b[38;5;124m\"\u001b[39m\u001b[38;5;124mVértices: \u001b[39m\u001b[38;5;132;01m{\u001b[39;00m\u001b[38;5;28mlen\u001b[39m(modelo\u001b[38;5;241m.\u001b[39mvertices)\u001b[38;5;132;01m}\u001b[39;00m\u001b[38;5;124m\"\u001b[39m)\n",
      "File \u001b[1;32mc:\\Users\\Justi\\anaconda3\\Lib\\site-packages\\trimesh\\exchange\\load.py:276\u001b[0m, in \u001b[0;36mload_mesh\u001b[1;34m(*args, **kwargs)\u001b[0m\n\u001b[0;32m    258\u001b[0m \u001b[38;5;28;01mdef\u001b[39;00m \u001b[38;5;21mload_mesh\u001b[39m(\u001b[38;5;241m*\u001b[39margs, \u001b[38;5;241m*\u001b[39m\u001b[38;5;241m*\u001b[39mkwargs) \u001b[38;5;241m-\u001b[39m\u001b[38;5;241m>\u001b[39m Trimesh:\n\u001b[0;32m    259\u001b[0m \u001b[38;5;250m    \u001b[39m\u001b[38;5;124;03m\"\"\"\u001b[39;00m\n\u001b[0;32m    260\u001b[0m \u001b[38;5;124;03m    Load a file into a Trimesh object.\u001b[39;00m\n\u001b[0;32m    261\u001b[0m \n\u001b[1;32m   (...)\u001b[0m\n\u001b[0;32m    274\u001b[0m \u001b[38;5;124;03m      Loaded geometry data.\u001b[39;00m\n\u001b[0;32m    275\u001b[0m \u001b[38;5;124;03m    \"\"\"\u001b[39;00m\n\u001b[1;32m--> 276\u001b[0m     \u001b[38;5;28;01mreturn\u001b[39;00m load_scene(\u001b[38;5;241m*\u001b[39margs, \u001b[38;5;241m*\u001b[39m\u001b[38;5;241m*\u001b[39mkwargs)\u001b[38;5;241m.\u001b[39mto_mesh()\n",
      "File \u001b[1;32mc:\\Users\\Justi\\anaconda3\\Lib\\site-packages\\trimesh\\exchange\\load.py:193\u001b[0m, in \u001b[0;36mload_scene\u001b[1;34m(file_obj, file_type, resolver, allow_remote, metadata, **kwargs)\u001b[0m\n\u001b[0;32m    165\u001b[0m \u001b[38;5;250m\u001b[39m\u001b[38;5;124;03m\"\"\"\u001b[39;00m\n\u001b[0;32m    166\u001b[0m \u001b[38;5;124;03mLoad geometry into the `trimesh.Scene` container. This may contain\u001b[39;00m\n\u001b[0;32m    167\u001b[0m \u001b[38;5;124;03many `parent.Geometry` object, including `Trimesh`, `Path2D`, `Path3D`,\u001b[39;00m\n\u001b[1;32m   (...)\u001b[0m\n\u001b[0;32m    189\u001b[0m \u001b[38;5;124;03m  Loaded geometry as trimesh classes\u001b[39;00m\n\u001b[0;32m    190\u001b[0m \u001b[38;5;124;03m\"\"\"\u001b[39;00m\n\u001b[0;32m    192\u001b[0m \u001b[38;5;66;03m# parse all possible values of file objects into simple types\u001b[39;00m\n\u001b[1;32m--> 193\u001b[0m arg \u001b[38;5;241m=\u001b[39m _parse_file_args(\n\u001b[0;32m    194\u001b[0m     file_obj\u001b[38;5;241m=\u001b[39mfile_obj,\n\u001b[0;32m    195\u001b[0m     file_type\u001b[38;5;241m=\u001b[39mfile_type,\n\u001b[0;32m    196\u001b[0m     resolver\u001b[38;5;241m=\u001b[39mresolver,\n\u001b[0;32m    197\u001b[0m     allow_remote\u001b[38;5;241m=\u001b[39mallow_remote,\n\u001b[0;32m    198\u001b[0m )\n\u001b[0;32m    200\u001b[0m \u001b[38;5;28;01mtry\u001b[39;00m:\n\u001b[0;32m    201\u001b[0m     \u001b[38;5;28;01mif\u001b[39;00m \u001b[38;5;28misinstance\u001b[39m(file_obj, \u001b[38;5;28mdict\u001b[39m):\n\u001b[0;32m    202\u001b[0m         \u001b[38;5;66;03m# we've been passed a dictionary so treat them as keyword arguments\u001b[39;00m\n",
      "File \u001b[1;32mc:\\Users\\Justi\\anaconda3\\Lib\\site-packages\\trimesh\\exchange\\load.py:624\u001b[0m, in \u001b[0;36m_parse_file_args\u001b[1;34m(file_obj, file_type, resolver, allow_remote, **kwargs)\u001b[0m\n\u001b[0;32m    621\u001b[0m             file_obj \u001b[38;5;241m=\u001b[39m util\u001b[38;5;241m.\u001b[39mwrap_as_stream(resolver\u001b[38;5;241m.\u001b[39mget_base())\n\u001b[0;32m    623\u001b[0m         \u001b[38;5;28;01melif\u001b[39;00m file_type \u001b[38;5;129;01mis\u001b[39;00m \u001b[38;5;28;01mNone\u001b[39;00m:\n\u001b[1;32m--> 624\u001b[0m             \u001b[38;5;28;01mraise\u001b[39;00m \u001b[38;5;167;01mValueError\u001b[39;00m(\u001b[38;5;124mf\u001b[39m\u001b[38;5;124m\"\u001b[39m\u001b[38;5;124mstring is not a file: `\u001b[39m\u001b[38;5;132;01m{\u001b[39;00mfile_obj\u001b[38;5;132;01m}\u001b[39;00m\u001b[38;5;124m`\u001b[39m\u001b[38;5;124m\"\u001b[39m)\n\u001b[0;32m    626\u001b[0m \u001b[38;5;28;01mif\u001b[39;00m \u001b[38;5;28misinstance\u001b[39m(file_type, \u001b[38;5;28mstr\u001b[39m) \u001b[38;5;129;01mand\u001b[39;00m \u001b[38;5;124m\"\u001b[39m\u001b[38;5;124m.\u001b[39m\u001b[38;5;124m\"\u001b[39m \u001b[38;5;129;01min\u001b[39;00m file_type:\n\u001b[0;32m    627\u001b[0m     \u001b[38;5;66;03m# if someone has passed the whole filename as the file_type\u001b[39;00m\n\u001b[0;32m    628\u001b[0m     \u001b[38;5;66;03m# use the file extension as the file_type\u001b[39;00m\n\u001b[0;32m    629\u001b[0m     path \u001b[38;5;241m=\u001b[39m os\u001b[38;5;241m.\u001b[39mpath\u001b[38;5;241m.\u001b[39mabspath(os\u001b[38;5;241m.\u001b[39mpath\u001b[38;5;241m.\u001b[39mexpanduser(file_type))\n",
      "\u001b[1;31mValueError\u001b[0m: string is not a file: `python/FinalBaseMesh.obj`"
     ]
    }
   ],
   "source": [
    "import trimesh\n",
    "import vedo\n",
    "import numpy as np\n",
    "import matplotlib.pyplot as plt\n",
    "import imageio\n",
    "\n",
    "# 1. Cargar el modelo 3D\n",
    "modelo = trimesh.load_mesh(\"python/FinalBaseMesh.obj\")  # Asegúrate de que la ruta esté correcta\n",
    "\n",
    "# 2. Información estructural del modelo\n",
    "print(f\"Vértices: {len(modelo.vertices)}\")\n",
    "print(f\"Aristas: {len(modelo.edges)}\")\n",
    "print(f\"Caras: {len(modelo.faces)}\")\n",
    "\n",
    "# 3. Visualización de la malla 3D con colores distintos para vértices, aristas y caras\n",
    "# Convertimos el modelo de trimesh a vedo para una mejor visualización interactiva\n",
    "mesh_vedo = vedo.Mesh(modelo)\n",
    "\n",
    "# Colorear los vértices (con el atributo 'c' para color)\n",
    "mesh_vedo.pointColors('red')  # Vértices en rojo\n",
    "\n",
    "# Colorear las aristas\n",
    "mesh_vedo.lineColor('blue')   # Aristas en azul\n",
    "\n",
    "# Colorear las caras\n",
    "mesh_vedo.faceColor('green')  # Caras en verde\n",
    "\n",
    "# Mostrar la malla\n",
    "vedo.show(mesh_vedo)\n",
    "\n",
    "# 4. Generar una animación rotando la malla y exportarla como GIF\n",
    "\n",
    "# Crear una lista para almacenar los frames\n",
    "frames = []\n",
    "\n",
    "# Número de frames para la animación\n",
    "num_frames = 60\n",
    "\n",
    "# Rotar el modelo y guardar los frames\n",
    "for i in range(num_frames):\n",
    "    # Rota el modelo alrededor del eje Y\n",
    "    mesh_vedo.rotate_y(360 / num_frames) \n",
    "    \n",
    "    # Añadir el frame al GIF\n",
    "    img = mesh_vedo.screenshot()  # Tomar una captura de pantalla\n",
    "    frames.append(img)\n",
    "\n",
    "# Crear el GIF animado\n",
    "gif_path = 'modelo_rotando.gif'\n",
    "imageio.mimsave(gif_path, frames, duration=0.05)  # Duración de cada frame en el GIF\n",
    "\n",
    "print(f\"Animación guardada como '{gif_path}'\")\n"
   ]
  }
 ],
 "metadata": {
  "kernelspec": {
   "display_name": "base",
   "language": "python",
   "name": "python3"
  },
  "language_info": {
   "codemirror_mode": {
    "name": "ipython",
    "version": 3
   },
   "file_extension": ".py",
   "mimetype": "text/x-python",
   "name": "python",
   "nbconvert_exporter": "python",
   "pygments_lexer": "ipython3",
   "version": "3.12.7"
  }
 },
 "nbformat": 4,
 "nbformat_minor": 5
}
