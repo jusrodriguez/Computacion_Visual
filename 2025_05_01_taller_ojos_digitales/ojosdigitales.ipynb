# Taller 3: Ojos Digitales – Visión Artificial con OpenCV

import cv2
import numpy as np
import matplotlib.pyplot as plt

# 1. Carga de imagen (o genera una sintética si no existe)
path = 'ruta/a/tu/imagen.jpg'
img_color = cv2.imread(path)
if img_color is None:
    print(f"No encontré '{path}', generando imagen de prueba.")
    img_color = np.zeros((256,256,3), dtype=np.uint8)
    cv2.rectangle(img_color, (50,50), (200,200), (255,0,0), -1)
    cv2.circle(img_color, (128,128), 60, (0,255,0), -1)
    cv2.line(img_color, (0,0), (255,255), (0,0,255), 5)

# 2. Conversión a escala de grises
img_gray = cv2.cvtColor(img_color, cv2.COLOR_BGR2GRAY)

# 3. Filtros convolucionales
#   a) Blur Gaussiano
blur = cv2.GaussianBlur(img_gray, (5,5), 0)

#   b) Sharpening
kernel_sharp = np.array([[0, -1,  0],
                         [-1, 5, -1],
                         [0, -1,  0]])
sharpen = cv2.filter2D(img_gray, -1, kernel_sharp)

# 4. Detección de bordes
#   a) Sobel X e Y
sobelx = cv2.Sobel(img_gray, cv2.CV_64F, 1, 0, ksize=3)
sobely = cv2.Sobel(img_gray, cv2.CV_64F, 0, 1, ksize=3)
sobelx = np.uint8(np.absolute(sobelx))
sobely = np.uint8(np.absolute(sobely))

#   b) Laplaciano
laplacian = cv2.Laplacian(img_gray, cv2.CV_64F)
laplacian = np.uint8(np.absolute(laplacian))

# 5. Visualización con Matplotlib
fig, axes = plt.subplots(2, 4, figsize=(14, 7))
images = [
    cv2.cvtColor(img_color, cv2.COLOR_BGR2RGB), 
    img_gray, blur, sharpen,
    sobelx, sobely, laplacian
]
titles = [
    'Color', 'Grayscale', 'Blur', 'Sharpen',
    'Sobel X', 'Sobel Y', 'Laplacian'
]
for ax, im, t in zip(axes.flatten(), images, titles):
    ax.imshow(im if im.ndim == 3 else im, cmap=('gray' if im.ndim==2 else None))
    ax.set_title(t)
    ax.axis('off')
# Vacía la última celda
axes.flatten()[-1].axis('off')
plt.tight_layout()
plt.show()

# 6. Bonus: Sliders en vivo con OpenCV
def nothing(x): pass

cv2.namedWindow('Controles')
cv2.createTrackbar('Kernel Blur', 'Controles', 1, 30, nothing)
cv2.createTrackbar('Sharpen +', 'Controles', 0, 10, nothing)

while True:
    k = cv2.getTrackbarPos('Kernel Blur', 'Controles')
    k = k if k % 2 == 1 else k+1
    s = cv2.getTrackbarPos('Sharpen +', 'Controles')
    
    blurred_live = cv2.GaussianBlur(img_gray, (k, k), 0)
    ks = np.array([[0, -1,  0],
                   [-1, 5+s, -1],
                   [0, -1,  0]])
    sharpen_live = cv2.filter2D(img_gray, -1, ks)
    
    cv2.imshow('Blur Live', blurred_live)
    cv2.imshow('Sharpen Live', sharpen_live)
    # Salir con ESC
    if cv2.waitKey(1) & 0xFF == 27:
        break

cv2.destroyAllWindows()
